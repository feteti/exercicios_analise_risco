{
 "cells": [
  {
   "cell_type": "code",
   "execution_count": 1,
   "metadata": {},
   "outputs": [],
   "source": [
    "import pandas as pd \n",
    "import numpy as np \n",
    "import matplotlib.pyplot as plt\n",
    "import sympy "
   ]
  },
  {
   "cell_type": "code",
   "execution_count": 2,
   "metadata": {},
   "outputs": [],
   "source": [
    "sympy.init_printing(use_unicode = True)"
   ]
  },
  {
   "cell_type": "markdown",
   "metadata": {},
   "source": [
    "# Capítulo 1\n",
    "\n",
    "## Exercício 1"
   ]
  },
  {
   "cell_type": "markdown",
   "metadata": {},
   "source": [
    "1) Após fazer uma seleção prévia das ações negociadas em bolsa de acordo com a liquidez e o setor de atuação da empresa entre outras análises fundamentalistas, um investidor montou um universo de ativos, cujas séries históricas de preços e retornos encontram-se na pasta Dados. Esse investidor busca obter um certo retorno e para atingir seu objetivo está disposto a correr um certo risco. Pede-se:\n",
    "\n",
    "a) Calcular os retornos e os riscos individuais desses ativos, usando para isso janelas de 200 e 300 dias.\n",
    "\n",
    "b) Classiﬁcar esses ativos de acordo com os seus retornos e riscos e analisar quais ativos seriam menos ou mais indicados para o investimento, uma vez que o investidor busca os maiores retornos com aversão ao risco.\n",
    "\n",
    "c) Quão importantes são os retornos e os riscos individuais das ações na montagem de uma carteira de investimentos? Que outros fatores são importantes?"
   ]
  },
  {
   "cell_type": "markdown",
   "metadata": {},
   "source": [
    "## Resolução"
   ]
  },
  {
   "cell_type": "markdown",
   "metadata": {},
   "source": [
    "### A) Importando a série de dados"
   ]
  },
  {
   "cell_type": "code",
   "execution_count": 3,
   "metadata": {},
   "outputs": [],
   "source": [
    "dados = pd.read_excel(\"Exercícios.xls\", sheet_name = \"Dados\")"
   ]
  },
  {
   "cell_type": "markdown",
   "metadata": {},
   "source": [
    "Retirando os retornos já calculados, farei novamente no pandas."
   ]
  },
  {
   "cell_type": "code",
   "execution_count": 4,
   "metadata": {},
   "outputs": [],
   "source": [
    "dados = dados.drop(['Unnamed: 12', 'Retornos', 'ibov.1',\n",
    "       'petr4.1', 'tnlp4.1', 'bbdc4.1', 'elet6.1', 'tspp4.1', 'ebtp4.1',\n",
    "       'vale5.1', 'itau4.1', 'cmig4.1', 'plim4.1'], axis = 1)"
   ]
  },
  {
   "cell_type": "code",
   "execution_count": 40,
   "metadata": {},
   "outputs": [
    {
     "data": {
      "text/html": [
       "<div>\n",
       "<style scoped>\n",
       "    .dataframe tbody tr th:only-of-type {\n",
       "        vertical-align: middle;\n",
       "    }\n",
       "\n",
       "    .dataframe tbody tr th {\n",
       "        vertical-align: top;\n",
       "    }\n",
       "\n",
       "    .dataframe thead th {\n",
       "        text-align: right;\n",
       "    }\n",
       "</style>\n",
       "<table border=\"1\" class=\"dataframe\">\n",
       "  <thead>\n",
       "    <tr style=\"text-align: right;\">\n",
       "      <th></th>\n",
       "      <th>Preços</th>\n",
       "      <th>ibov</th>\n",
       "      <th>petr4</th>\n",
       "      <th>tnlp4</th>\n",
       "      <th>bbdc4</th>\n",
       "      <th>elet6</th>\n",
       "      <th>tspp4</th>\n",
       "      <th>ebtp4</th>\n",
       "      <th>vale5</th>\n",
       "      <th>itau4</th>\n",
       "      <th>cmig4</th>\n",
       "      <th>plim4</th>\n",
       "    </tr>\n",
       "  </thead>\n",
       "  <tbody>\n",
       "    <tr>\n",
       "      <th>0</th>\n",
       "      <td>2002-03-28</td>\n",
       "      <td>13243</td>\n",
       "      <td>58.30</td>\n",
       "      <td>29.60</td>\n",
       "      <td>14.05</td>\n",
       "      <td>34.70</td>\n",
       "      <td>5.79</td>\n",
       "      <td>7.50</td>\n",
       "      <td>61.40</td>\n",
       "      <td>184.50</td>\n",
       "      <td>34.40</td>\n",
       "      <td>0.51</td>\n",
       "    </tr>\n",
       "    <tr>\n",
       "      <th>1</th>\n",
       "      <td>2002-03-27</td>\n",
       "      <td>13424</td>\n",
       "      <td>58.10</td>\n",
       "      <td>29.93</td>\n",
       "      <td>14.06</td>\n",
       "      <td>35.60</td>\n",
       "      <td>5.86</td>\n",
       "      <td>7.50</td>\n",
       "      <td>61.60</td>\n",
       "      <td>188.50</td>\n",
       "      <td>35.45</td>\n",
       "      <td>0.51</td>\n",
       "    </tr>\n",
       "    <tr>\n",
       "      <th>2</th>\n",
       "      <td>2002-03-26</td>\n",
       "      <td>13569</td>\n",
       "      <td>57.41</td>\n",
       "      <td>30.59</td>\n",
       "      <td>14.40</td>\n",
       "      <td>36.15</td>\n",
       "      <td>6.03</td>\n",
       "      <td>7.82</td>\n",
       "      <td>61.50</td>\n",
       "      <td>186.51</td>\n",
       "      <td>35.37</td>\n",
       "      <td>0.53</td>\n",
       "    </tr>\n",
       "    <tr>\n",
       "      <th>3</th>\n",
       "      <td>2002-03-25</td>\n",
       "      <td>13277</td>\n",
       "      <td>56.70</td>\n",
       "      <td>29.71</td>\n",
       "      <td>13.85</td>\n",
       "      <td>34.70</td>\n",
       "      <td>6.11</td>\n",
       "      <td>7.67</td>\n",
       "      <td>60.24</td>\n",
       "      <td>185.00</td>\n",
       "      <td>34.04</td>\n",
       "      <td>0.53</td>\n",
       "    </tr>\n",
       "    <tr>\n",
       "      <th>4</th>\n",
       "      <td>2002-03-22</td>\n",
       "      <td>13312</td>\n",
       "      <td>58.40</td>\n",
       "      <td>30.50</td>\n",
       "      <td>14.20</td>\n",
       "      <td>34.35</td>\n",
       "      <td>5.95</td>\n",
       "      <td>7.70</td>\n",
       "      <td>59.80</td>\n",
       "      <td>185.70</td>\n",
       "      <td>34.01</td>\n",
       "      <td>0.50</td>\n",
       "    </tr>\n",
       "    <tr>\n",
       "      <th>...</th>\n",
       "      <td>...</td>\n",
       "      <td>...</td>\n",
       "      <td>...</td>\n",
       "      <td>...</td>\n",
       "      <td>...</td>\n",
       "      <td>...</td>\n",
       "      <td>...</td>\n",
       "      <td>...</td>\n",
       "      <td>...</td>\n",
       "      <td>...</td>\n",
       "      <td>...</td>\n",
       "      <td>...</td>\n",
       "    </tr>\n",
       "    <tr>\n",
       "      <th>402</th>\n",
       "      <td>2000-08-07</td>\n",
       "      <td>16995</td>\n",
       "      <td>44.39</td>\n",
       "      <td>44.87</td>\n",
       "      <td>12.24</td>\n",
       "      <td>36.71</td>\n",
       "      <td>26.27</td>\n",
       "      <td>40.36</td>\n",
       "      <td>45.49</td>\n",
       "      <td>166.84</td>\n",
       "      <td>32.36</td>\n",
       "      <td>2.85</td>\n",
       "    </tr>\n",
       "    <tr>\n",
       "      <th>403</th>\n",
       "      <td>2000-08-04</td>\n",
       "      <td>16761</td>\n",
       "      <td>42.96</td>\n",
       "      <td>44.63</td>\n",
       "      <td>12.05</td>\n",
       "      <td>36.80</td>\n",
       "      <td>26.07</td>\n",
       "      <td>39.97</td>\n",
       "      <td>44.73</td>\n",
       "      <td>164.91</td>\n",
       "      <td>32.46</td>\n",
       "      <td>2.80</td>\n",
       "    </tr>\n",
       "    <tr>\n",
       "      <th>404</th>\n",
       "      <td>2000-08-03</td>\n",
       "      <td>16720</td>\n",
       "      <td>43.55</td>\n",
       "      <td>43.85</td>\n",
       "      <td>11.93</td>\n",
       "      <td>37.81</td>\n",
       "      <td>26.36</td>\n",
       "      <td>39.38</td>\n",
       "      <td>43.02</td>\n",
       "      <td>164.86</td>\n",
       "      <td>32.95</td>\n",
       "      <td>2.75</td>\n",
       "    </tr>\n",
       "    <tr>\n",
       "      <th>405</th>\n",
       "      <td>2000-08-02</td>\n",
       "      <td>16314</td>\n",
       "      <td>43.25</td>\n",
       "      <td>42.42</td>\n",
       "      <td>11.33</td>\n",
       "      <td>36.44</td>\n",
       "      <td>26.56</td>\n",
       "      <td>38.40</td>\n",
       "      <td>41.40</td>\n",
       "      <td>160.06</td>\n",
       "      <td>31.58</td>\n",
       "      <td>2.71</td>\n",
       "    </tr>\n",
       "    <tr>\n",
       "      <th>406</th>\n",
       "      <td>2000-08-01</td>\n",
       "      <td>16289</td>\n",
       "      <td>42.36</td>\n",
       "      <td>41.34</td>\n",
       "      <td>11.26</td>\n",
       "      <td>36.35</td>\n",
       "      <td>26.27</td>\n",
       "      <td>38.79</td>\n",
       "      <td>41.57</td>\n",
       "      <td>157.44</td>\n",
       "      <td>32.36</td>\n",
       "      <td>2.74</td>\n",
       "    </tr>\n",
       "  </tbody>\n",
       "</table>\n",
       "<p>407 rows × 12 columns</p>\n",
       "</div>"
      ],
      "text/plain": [
       "        Preços   ibov  petr4  tnlp4  bbdc4  elet6  tspp4  ebtp4  vale5  \\\n",
       "0   2002-03-28  13243  58.30  29.60  14.05  34.70   5.79   7.50  61.40   \n",
       "1   2002-03-27  13424  58.10  29.93  14.06  35.60   5.86   7.50  61.60   \n",
       "2   2002-03-26  13569  57.41  30.59  14.40  36.15   6.03   7.82  61.50   \n",
       "3   2002-03-25  13277  56.70  29.71  13.85  34.70   6.11   7.67  60.24   \n",
       "4   2002-03-22  13312  58.40  30.50  14.20  34.35   5.95   7.70  59.80   \n",
       "..         ...    ...    ...    ...    ...    ...    ...    ...    ...   \n",
       "402 2000-08-07  16995  44.39  44.87  12.24  36.71  26.27  40.36  45.49   \n",
       "403 2000-08-04  16761  42.96  44.63  12.05  36.80  26.07  39.97  44.73   \n",
       "404 2000-08-03  16720  43.55  43.85  11.93  37.81  26.36  39.38  43.02   \n",
       "405 2000-08-02  16314  43.25  42.42  11.33  36.44  26.56  38.40  41.40   \n",
       "406 2000-08-01  16289  42.36  41.34  11.26  36.35  26.27  38.79  41.57   \n",
       "\n",
       "      itau4  cmig4  plim4  \n",
       "0    184.50  34.40   0.51  \n",
       "1    188.50  35.45   0.51  \n",
       "2    186.51  35.37   0.53  \n",
       "3    185.00  34.04   0.53  \n",
       "4    185.70  34.01   0.50  \n",
       "..      ...    ...    ...  \n",
       "402  166.84  32.36   2.85  \n",
       "403  164.91  32.46   2.80  \n",
       "404  164.86  32.95   2.75  \n",
       "405  160.06  31.58   2.71  \n",
       "406  157.44  32.36   2.74  \n",
       "\n",
       "[407 rows x 12 columns]"
      ]
     },
     "execution_count": 40,
     "metadata": {},
     "output_type": "execute_result"
    }
   ],
   "source": [
    "dados"
   ]
  },
  {
   "cell_type": "code",
   "execution_count": 6,
   "metadata": {},
   "outputs": [],
   "source": [
    "def retorno(dados):\n",
    "    \n",
    "    header = dados.columns\n",
    "    \n",
    "    df = pd.DataFrame(columns = header[2:], index = np.array(dados[\"Preços\"][0:406]))\n",
    "    \n",
    "    for i in range(2, len(header)):\n",
    "        acao = header[i]\n",
    "        retorno = []\n",
    "\n",
    "        for j in range(0, 406):\n",
    "            retorno.append(((dados[acao][j]-dados[acao][j+1])/dados[acao][j+1]))\n",
    "        \n",
    "    \n",
    "        df[acao] = retorno\n",
    "        \n",
    "    return df"
   ]
  },
  {
   "cell_type": "code",
   "execution_count": 7,
   "metadata": {},
   "outputs": [
    {
     "data": {
      "text/html": [
       "<div>\n",
       "<style scoped>\n",
       "    .dataframe tbody tr th:only-of-type {\n",
       "        vertical-align: middle;\n",
       "    }\n",
       "\n",
       "    .dataframe tbody tr th {\n",
       "        vertical-align: top;\n",
       "    }\n",
       "\n",
       "    .dataframe thead th {\n",
       "        text-align: right;\n",
       "    }\n",
       "</style>\n",
       "<table border=\"1\" class=\"dataframe\">\n",
       "  <thead>\n",
       "    <tr style=\"text-align: right;\">\n",
       "      <th></th>\n",
       "      <th>petr4</th>\n",
       "      <th>tnlp4</th>\n",
       "      <th>bbdc4</th>\n",
       "      <th>elet6</th>\n",
       "      <th>tspp4</th>\n",
       "      <th>ebtp4</th>\n",
       "      <th>vale5</th>\n",
       "      <th>itau4</th>\n",
       "      <th>cmig4</th>\n",
       "      <th>plim4</th>\n",
       "    </tr>\n",
       "  </thead>\n",
       "  <tbody>\n",
       "    <tr>\n",
       "      <th>2002-03-28</th>\n",
       "      <td>0.003442</td>\n",
       "      <td>-0.011026</td>\n",
       "      <td>-0.000711</td>\n",
       "      <td>-0.025281</td>\n",
       "      <td>-0.011945</td>\n",
       "      <td>0.000000</td>\n",
       "      <td>-0.003247</td>\n",
       "      <td>-0.021220</td>\n",
       "      <td>-0.029619</td>\n",
       "      <td>0.000000</td>\n",
       "    </tr>\n",
       "    <tr>\n",
       "      <th>2002-03-27</th>\n",
       "      <td>0.012019</td>\n",
       "      <td>-0.021576</td>\n",
       "      <td>-0.023611</td>\n",
       "      <td>-0.015214</td>\n",
       "      <td>-0.028192</td>\n",
       "      <td>-0.040921</td>\n",
       "      <td>0.001626</td>\n",
       "      <td>0.010670</td>\n",
       "      <td>0.002262</td>\n",
       "      <td>-0.037736</td>\n",
       "    </tr>\n",
       "    <tr>\n",
       "      <th>2002-03-26</th>\n",
       "      <td>0.012522</td>\n",
       "      <td>0.029620</td>\n",
       "      <td>0.039711</td>\n",
       "      <td>0.041787</td>\n",
       "      <td>-0.013093</td>\n",
       "      <td>0.019557</td>\n",
       "      <td>0.020916</td>\n",
       "      <td>0.008162</td>\n",
       "      <td>0.039072</td>\n",
       "      <td>0.000000</td>\n",
       "    </tr>\n",
       "    <tr>\n",
       "      <th>2002-03-25</th>\n",
       "      <td>-0.029110</td>\n",
       "      <td>-0.025902</td>\n",
       "      <td>-0.024648</td>\n",
       "      <td>0.010189</td>\n",
       "      <td>0.026891</td>\n",
       "      <td>-0.003896</td>\n",
       "      <td>0.007358</td>\n",
       "      <td>-0.003770</td>\n",
       "      <td>0.000882</td>\n",
       "      <td>0.060000</td>\n",
       "    </tr>\n",
       "    <tr>\n",
       "      <th>2002-03-22</th>\n",
       "      <td>-0.006803</td>\n",
       "      <td>-0.028972</td>\n",
       "      <td>-0.020690</td>\n",
       "      <td>-0.066322</td>\n",
       "      <td>0.000000</td>\n",
       "      <td>-0.065534</td>\n",
       "      <td>-0.026059</td>\n",
       "      <td>0.003784</td>\n",
       "      <td>-0.047339</td>\n",
       "      <td>-0.019608</td>\n",
       "    </tr>\n",
       "    <tr>\n",
       "      <th>...</th>\n",
       "      <td>...</td>\n",
       "      <td>...</td>\n",
       "      <td>...</td>\n",
       "      <td>...</td>\n",
       "      <td>...</td>\n",
       "      <td>...</td>\n",
       "      <td>...</td>\n",
       "      <td>...</td>\n",
       "      <td>...</td>\n",
       "      <td>...</td>\n",
       "    </tr>\n",
       "    <tr>\n",
       "      <th>2000-08-08</th>\n",
       "      <td>-0.036495</td>\n",
       "      <td>-0.010698</td>\n",
       "      <td>-0.004085</td>\n",
       "      <td>-0.009807</td>\n",
       "      <td>-0.022459</td>\n",
       "      <td>-0.021804</td>\n",
       "      <td>-0.009233</td>\n",
       "      <td>-0.011628</td>\n",
       "      <td>-0.012052</td>\n",
       "      <td>0.035088</td>\n",
       "    </tr>\n",
       "    <tr>\n",
       "      <th>2000-08-07</th>\n",
       "      <td>0.033287</td>\n",
       "      <td>0.005378</td>\n",
       "      <td>0.015768</td>\n",
       "      <td>-0.002446</td>\n",
       "      <td>0.007672</td>\n",
       "      <td>0.009757</td>\n",
       "      <td>0.016991</td>\n",
       "      <td>0.011703</td>\n",
       "      <td>-0.003081</td>\n",
       "      <td>0.017857</td>\n",
       "    </tr>\n",
       "    <tr>\n",
       "      <th>2000-08-04</th>\n",
       "      <td>-0.013548</td>\n",
       "      <td>0.017788</td>\n",
       "      <td>0.010059</td>\n",
       "      <td>-0.026713</td>\n",
       "      <td>-0.011002</td>\n",
       "      <td>0.014982</td>\n",
       "      <td>0.039749</td>\n",
       "      <td>0.000303</td>\n",
       "      <td>-0.014871</td>\n",
       "      <td>0.018182</td>\n",
       "    </tr>\n",
       "    <tr>\n",
       "      <th>2000-08-03</th>\n",
       "      <td>0.006936</td>\n",
       "      <td>0.033711</td>\n",
       "      <td>0.052957</td>\n",
       "      <td>0.037596</td>\n",
       "      <td>-0.007530</td>\n",
       "      <td>0.025521</td>\n",
       "      <td>0.039130</td>\n",
       "      <td>0.029989</td>\n",
       "      <td>0.043382</td>\n",
       "      <td>0.014760</td>\n",
       "    </tr>\n",
       "    <tr>\n",
       "      <th>2000-08-02</th>\n",
       "      <td>0.021010</td>\n",
       "      <td>0.026125</td>\n",
       "      <td>0.006217</td>\n",
       "      <td>0.002476</td>\n",
       "      <td>0.011039</td>\n",
       "      <td>-0.010054</td>\n",
       "      <td>-0.004089</td>\n",
       "      <td>0.016641</td>\n",
       "      <td>-0.024104</td>\n",
       "      <td>-0.010949</td>\n",
       "    </tr>\n",
       "  </tbody>\n",
       "</table>\n",
       "<p>406 rows × 10 columns</p>\n",
       "</div>"
      ],
      "text/plain": [
       "               petr4     tnlp4     bbdc4     elet6     tspp4     ebtp4  \\\n",
       "2002-03-28  0.003442 -0.011026 -0.000711 -0.025281 -0.011945  0.000000   \n",
       "2002-03-27  0.012019 -0.021576 -0.023611 -0.015214 -0.028192 -0.040921   \n",
       "2002-03-26  0.012522  0.029620  0.039711  0.041787 -0.013093  0.019557   \n",
       "2002-03-25 -0.029110 -0.025902 -0.024648  0.010189  0.026891 -0.003896   \n",
       "2002-03-22 -0.006803 -0.028972 -0.020690 -0.066322  0.000000 -0.065534   \n",
       "...              ...       ...       ...       ...       ...       ...   \n",
       "2000-08-08 -0.036495 -0.010698 -0.004085 -0.009807 -0.022459 -0.021804   \n",
       "2000-08-07  0.033287  0.005378  0.015768 -0.002446  0.007672  0.009757   \n",
       "2000-08-04 -0.013548  0.017788  0.010059 -0.026713 -0.011002  0.014982   \n",
       "2000-08-03  0.006936  0.033711  0.052957  0.037596 -0.007530  0.025521   \n",
       "2000-08-02  0.021010  0.026125  0.006217  0.002476  0.011039 -0.010054   \n",
       "\n",
       "               vale5     itau4     cmig4     plim4  \n",
       "2002-03-28 -0.003247 -0.021220 -0.029619  0.000000  \n",
       "2002-03-27  0.001626  0.010670  0.002262 -0.037736  \n",
       "2002-03-26  0.020916  0.008162  0.039072  0.000000  \n",
       "2002-03-25  0.007358 -0.003770  0.000882  0.060000  \n",
       "2002-03-22 -0.026059  0.003784 -0.047339 -0.019608  \n",
       "...              ...       ...       ...       ...  \n",
       "2000-08-08 -0.009233 -0.011628 -0.012052  0.035088  \n",
       "2000-08-07  0.016991  0.011703 -0.003081  0.017857  \n",
       "2000-08-04  0.039749  0.000303 -0.014871  0.018182  \n",
       "2000-08-03  0.039130  0.029989  0.043382  0.014760  \n",
       "2000-08-02 -0.004089  0.016641 -0.024104 -0.010949  \n",
       "\n",
       "[406 rows x 10 columns]"
      ]
     },
     "execution_count": 7,
     "metadata": {},
     "output_type": "execute_result"
    }
   ],
   "source": [
    "retorno(dados) "
   ]
  },
  {
   "cell_type": "markdown",
   "metadata": {},
   "source": [
    "### Dataframe com Risco e Retorno "
   ]
  },
  {
   "cell_type": "code",
   "execution_count": 8,
   "metadata": {},
   "outputs": [],
   "source": [
    "def Risco_Retorno1(janela, retornos):\n",
    "    df= pd.DataFrame(index = [\"Retorno Esperado\", \"Risco\"], )\n",
    "    \n",
    "    for acao in retornos.columns:\n",
    "        retorno_risco =[str(round(retornos[acao][0: janela+1].mean()*100,2))+\"%\", \n",
    "                        str(round(retornos[acao][0: janela+1].std()*100,2))+\"%\"] \n",
    "        df[acao] = retorno_risco\n",
    "    \n",
    "    return df"
   ]
  },
  {
   "cell_type": "markdown",
   "metadata": {},
   "source": [
    "### 200 dias:"
   ]
  },
  {
   "cell_type": "code",
   "execution_count": 9,
   "metadata": {},
   "outputs": [
    {
     "data": {
      "text/html": [
       "<div>\n",
       "<style scoped>\n",
       "    .dataframe tbody tr th:only-of-type {\n",
       "        vertical-align: middle;\n",
       "    }\n",
       "\n",
       "    .dataframe tbody tr th {\n",
       "        vertical-align: top;\n",
       "    }\n",
       "\n",
       "    .dataframe thead th {\n",
       "        text-align: right;\n",
       "    }\n",
       "</style>\n",
       "<table border=\"1\" class=\"dataframe\">\n",
       "  <thead>\n",
       "    <tr style=\"text-align: right;\">\n",
       "      <th></th>\n",
       "      <th>petr4</th>\n",
       "      <th>tnlp4</th>\n",
       "      <th>bbdc4</th>\n",
       "      <th>elet6</th>\n",
       "      <th>tspp4</th>\n",
       "      <th>ebtp4</th>\n",
       "      <th>vale5</th>\n",
       "      <th>itau4</th>\n",
       "      <th>cmig4</th>\n",
       "      <th>plim4</th>\n",
       "    </tr>\n",
       "  </thead>\n",
       "  <tbody>\n",
       "    <tr>\n",
       "      <th>Retorno Esperado</th>\n",
       "      <td>0.02%</td>\n",
       "      <td>-0.07%</td>\n",
       "      <td>0.13%</td>\n",
       "      <td>0.26%</td>\n",
       "      <td>-0.44%</td>\n",
       "      <td>-0.4%</td>\n",
       "      <td>0.1%</td>\n",
       "      <td>0.02%</td>\n",
       "      <td>0.25%</td>\n",
       "      <td>-0.13%</td>\n",
       "    </tr>\n",
       "    <tr>\n",
       "      <th>Risco</th>\n",
       "      <td>2.11%</td>\n",
       "      <td>2.85%</td>\n",
       "      <td>2.41%</td>\n",
       "      <td>3.42%</td>\n",
       "      <td>3.84%</td>\n",
       "      <td>4.1%</td>\n",
       "      <td>1.84%</td>\n",
       "      <td>2.28%</td>\n",
       "      <td>2.93%</td>\n",
       "      <td>4.69%</td>\n",
       "    </tr>\n",
       "  </tbody>\n",
       "</table>\n",
       "</div>"
      ],
      "text/plain": [
       "                  petr4   tnlp4  bbdc4  elet6   tspp4  ebtp4  vale5  itau4  \\\n",
       "Retorno Esperado  0.02%  -0.07%  0.13%  0.26%  -0.44%  -0.4%   0.1%  0.02%   \n",
       "Risco             2.11%   2.85%  2.41%  3.42%   3.84%   4.1%  1.84%  2.28%   \n",
       "\n",
       "                  cmig4   plim4  \n",
       "Retorno Esperado  0.25%  -0.13%  \n",
       "Risco             2.93%   4.69%  "
      ]
     },
     "execution_count": 9,
     "metadata": {},
     "output_type": "execute_result"
    }
   ],
   "source": [
    "Risco_Retorno1(200, retorno(dados))"
   ]
  },
  {
   "cell_type": "markdown",
   "metadata": {},
   "source": [
    "### 300 dias:"
   ]
  },
  {
   "cell_type": "code",
   "execution_count": 10,
   "metadata": {},
   "outputs": [
    {
     "data": {
      "text/html": [
       "<div>\n",
       "<style scoped>\n",
       "    .dataframe tbody tr th:only-of-type {\n",
       "        vertical-align: middle;\n",
       "    }\n",
       "\n",
       "    .dataframe tbody tr th {\n",
       "        vertical-align: top;\n",
       "    }\n",
       "\n",
       "    .dataframe thead th {\n",
       "        text-align: right;\n",
       "    }\n",
       "</style>\n",
       "<table border=\"1\" class=\"dataframe\">\n",
       "  <thead>\n",
       "    <tr style=\"text-align: right;\">\n",
       "      <th></th>\n",
       "      <th>petr4</th>\n",
       "      <th>tnlp4</th>\n",
       "      <th>bbdc4</th>\n",
       "      <th>elet6</th>\n",
       "      <th>tspp4</th>\n",
       "      <th>ebtp4</th>\n",
       "      <th>vale5</th>\n",
       "      <th>itau4</th>\n",
       "      <th>cmig4</th>\n",
       "      <th>plim4</th>\n",
       "    </tr>\n",
       "  </thead>\n",
       "  <tbody>\n",
       "    <tr>\n",
       "      <th>Retorno Esperado</th>\n",
       "      <td>0.1%</td>\n",
       "      <td>-0.1%</td>\n",
       "      <td>0.05%</td>\n",
       "      <td>0.09%</td>\n",
       "      <td>-0.38%</td>\n",
       "      <td>-0.41%</td>\n",
       "      <td>0.13%</td>\n",
       "      <td>0.03%</td>\n",
       "      <td>0.08%</td>\n",
       "      <td>-0.41%</td>\n",
       "    </tr>\n",
       "    <tr>\n",
       "      <th>Risco</th>\n",
       "      <td>2.12%</td>\n",
       "      <td>2.83%</td>\n",
       "      <td>2.56%</td>\n",
       "      <td>3.4%</td>\n",
       "      <td>3.78%</td>\n",
       "      <td>3.94%</td>\n",
       "      <td>1.92%</td>\n",
       "      <td>2.43%</td>\n",
       "      <td>2.82%</td>\n",
       "      <td>4.42%</td>\n",
       "    </tr>\n",
       "  </tbody>\n",
       "</table>\n",
       "</div>"
      ],
      "text/plain": [
       "                  petr4  tnlp4  bbdc4  elet6   tspp4   ebtp4  vale5  itau4  \\\n",
       "Retorno Esperado   0.1%  -0.1%  0.05%  0.09%  -0.38%  -0.41%  0.13%  0.03%   \n",
       "Risco             2.12%  2.83%  2.56%   3.4%   3.78%   3.94%  1.92%  2.43%   \n",
       "\n",
       "                  cmig4   plim4  \n",
       "Retorno Esperado  0.08%  -0.41%  \n",
       "Risco             2.82%   4.42%  "
      ]
     },
     "execution_count": 10,
     "metadata": {},
     "output_type": "execute_result"
    }
   ],
   "source": [
    "Risco_Retorno1(300, retorno(dados))"
   ]
  },
  {
   "cell_type": "markdown",
   "metadata": {},
   "source": [
    "#### b) "
   ]
  },
  {
   "cell_type": "markdown",
   "metadata": {},
   "source": [
    "A ação com maior retorno em uma janela de $200$ é a ELT6, enquanto na janela de $300$ é a \n",
    "VALE5. No ponto de vista de risco, a ELT6 é mais arriscada que a VALE5, devendo ser considerada o investimento nessa.\n",
    "\n",
    "Já a com pior desempenho, temos a TSPP4 na janela de $200$ e a EBTP4 e PLIM4 empatadas na janela de $400$, ambas com altíssimo risco. "
   ]
  },
  {
   "cell_type": "markdown",
   "metadata": {},
   "source": [
    "#### c) \n",
    "São fatores que ajudam a analisar o fator individual de cada uma das parcelas da carteira\n",
    "de investimento. A covariância também é um fator importante."
   ]
  },
  {
   "cell_type": "markdown",
   "metadata": {},
   "source": [
    "# Exercício 2"
   ]
  },
  {
   "cell_type": "markdown",
   "metadata": {},
   "source": [
    "Um investidor possui 100.000,00 para aplicar em ações. Dada a análise individual do exercício anterior, esse investidor decidiu montar uma carteira de investimento. Ele resolveu comprar 40.000,00 de ações Vale PNA e 30.000,00 de Eletrobrás PNB, por considerar papéis atrativos. Analogamente, ele quer evitar Telesp Celular PN, Globo Cabo PN e Embratel PN. Assumindo que o investidor vai alocar todo o saldo do investimento em um único ativo, pede-se, único ativo (no livro falam de pelo menos 3):\n",
    "\n",
    "a) Qual ação do universo considerado ele deve comprar para manter o nível de risco diário da carteira abaixo de 1,8%, considerando uma janela de 400 dias?\n",
    "\n",
    "b) Supondo que o investidor monte a carteira indicada no item anterior, qual o retorno esperado para 1 ano? Sob o ponto de vista única e exclusivamente do retorno e para uma taxa de juros de 18,5% ao ano, vale a pena montar a carteira indicada?"
   ]
  },
  {
   "cell_type": "markdown",
   "metadata": {},
   "source": [
    "## Resolução"
   ]
  },
  {
   "cell_type": "markdown",
   "metadata": {},
   "source": [
    "### a)"
   ]
  },
  {
   "cell_type": "markdown",
   "metadata": {},
   "source": [
    "Temos que: $\\sigma^2 = \\omega'\\Sigma\\omega$\n",
    "\n",
    "Ainda, $\\Sigma = E((R-r)(R-r)')$"
   ]
  },
  {
   "cell_type": "markdown",
   "metadata": {},
   "source": [
    "Calcularemos, então a matriz de covariância:"
   ]
  },
  {
   "cell_type": "code",
   "execution_count": 11,
   "metadata": {},
   "outputs": [],
   "source": [
    "def cov_janela(retornos, janela):\n",
    "    retorno_janela = retornos.iloc[0:janela]\n",
    "    \n",
    "    return np.cov(retorno_janela.T)\n",
    "\n",
    "matriz_cov = cov_janela(retorno(dados), 406)"
   ]
  },
  {
   "cell_type": "markdown",
   "metadata": {},
   "source": [
    "A função acima nos devolve um array da matriz de covariancia. Abaixo, mostro ela de forma mais bonita, usando um dataframe."
   ]
  },
  {
   "cell_type": "code",
   "execution_count": 12,
   "metadata": {},
   "outputs": [
    {
     "data": {
      "text/html": [
       "<div>\n",
       "<style scoped>\n",
       "    .dataframe tbody tr th:only-of-type {\n",
       "        vertical-align: middle;\n",
       "    }\n",
       "\n",
       "    .dataframe tbody tr th {\n",
       "        vertical-align: top;\n",
       "    }\n",
       "\n",
       "    .dataframe thead th {\n",
       "        text-align: right;\n",
       "    }\n",
       "</style>\n",
       "<table border=\"1\" class=\"dataframe\">\n",
       "  <thead>\n",
       "    <tr style=\"text-align: right;\">\n",
       "      <th></th>\n",
       "      <th>petr4</th>\n",
       "      <th>tnlp4</th>\n",
       "      <th>bbdc4</th>\n",
       "      <th>elet6</th>\n",
       "      <th>tspp4</th>\n",
       "      <th>ebtp4</th>\n",
       "      <th>vale5</th>\n",
       "      <th>itau4</th>\n",
       "      <th>cmig4</th>\n",
       "      <th>plim4</th>\n",
       "    </tr>\n",
       "  </thead>\n",
       "  <tbody>\n",
       "    <tr>\n",
       "      <th>petr4</th>\n",
       "      <td>0.000469</td>\n",
       "      <td>0.000258</td>\n",
       "      <td>0.000163</td>\n",
       "      <td>0.000205</td>\n",
       "      <td>0.000213</td>\n",
       "      <td>0.000234</td>\n",
       "      <td>0.000141</td>\n",
       "      <td>0.000183</td>\n",
       "      <td>0.000210</td>\n",
       "      <td>0.000229</td>\n",
       "    </tr>\n",
       "    <tr>\n",
       "      <th>tnlp4</th>\n",
       "      <td>0.000258</td>\n",
       "      <td>0.000742</td>\n",
       "      <td>0.000395</td>\n",
       "      <td>0.000487</td>\n",
       "      <td>0.000573</td>\n",
       "      <td>0.000678</td>\n",
       "      <td>0.000208</td>\n",
       "      <td>0.000334</td>\n",
       "      <td>0.000466</td>\n",
       "      <td>0.000597</td>\n",
       "    </tr>\n",
       "    <tr>\n",
       "      <th>bbdc4</th>\n",
       "      <td>0.000163</td>\n",
       "      <td>0.000395</td>\n",
       "      <td>0.000669</td>\n",
       "      <td>0.000398</td>\n",
       "      <td>0.000363</td>\n",
       "      <td>0.000480</td>\n",
       "      <td>0.000147</td>\n",
       "      <td>0.000366</td>\n",
       "      <td>0.000349</td>\n",
       "      <td>0.000402</td>\n",
       "    </tr>\n",
       "    <tr>\n",
       "      <th>elet6</th>\n",
       "      <td>0.000205</td>\n",
       "      <td>0.000487</td>\n",
       "      <td>0.000398</td>\n",
       "      <td>0.001049</td>\n",
       "      <td>0.000448</td>\n",
       "      <td>0.000564</td>\n",
       "      <td>0.000228</td>\n",
       "      <td>0.000349</td>\n",
       "      <td>0.000555</td>\n",
       "      <td>0.000622</td>\n",
       "    </tr>\n",
       "    <tr>\n",
       "      <th>tspp4</th>\n",
       "      <td>0.000213</td>\n",
       "      <td>0.000573</td>\n",
       "      <td>0.000363</td>\n",
       "      <td>0.000448</td>\n",
       "      <td>0.001424</td>\n",
       "      <td>0.000754</td>\n",
       "      <td>0.000227</td>\n",
       "      <td>0.000296</td>\n",
       "      <td>0.000394</td>\n",
       "      <td>0.000630</td>\n",
       "    </tr>\n",
       "    <tr>\n",
       "      <th>ebtp4</th>\n",
       "      <td>0.000234</td>\n",
       "      <td>0.000678</td>\n",
       "      <td>0.000480</td>\n",
       "      <td>0.000564</td>\n",
       "      <td>0.000754</td>\n",
       "      <td>0.001488</td>\n",
       "      <td>0.000276</td>\n",
       "      <td>0.000360</td>\n",
       "      <td>0.000528</td>\n",
       "      <td>0.000711</td>\n",
       "    </tr>\n",
       "    <tr>\n",
       "      <th>vale5</th>\n",
       "      <td>0.000141</td>\n",
       "      <td>0.000208</td>\n",
       "      <td>0.000147</td>\n",
       "      <td>0.000228</td>\n",
       "      <td>0.000227</td>\n",
       "      <td>0.000276</td>\n",
       "      <td>0.000400</td>\n",
       "      <td>0.000142</td>\n",
       "      <td>0.000223</td>\n",
       "      <td>0.000240</td>\n",
       "    </tr>\n",
       "    <tr>\n",
       "      <th>itau4</th>\n",
       "      <td>0.000183</td>\n",
       "      <td>0.000334</td>\n",
       "      <td>0.000366</td>\n",
       "      <td>0.000349</td>\n",
       "      <td>0.000296</td>\n",
       "      <td>0.000360</td>\n",
       "      <td>0.000142</td>\n",
       "      <td>0.000583</td>\n",
       "      <td>0.000322</td>\n",
       "      <td>0.000372</td>\n",
       "    </tr>\n",
       "    <tr>\n",
       "      <th>cmig4</th>\n",
       "      <td>0.000210</td>\n",
       "      <td>0.000466</td>\n",
       "      <td>0.000349</td>\n",
       "      <td>0.000555</td>\n",
       "      <td>0.000394</td>\n",
       "      <td>0.000528</td>\n",
       "      <td>0.000223</td>\n",
       "      <td>0.000322</td>\n",
       "      <td>0.000779</td>\n",
       "      <td>0.000545</td>\n",
       "    </tr>\n",
       "    <tr>\n",
       "      <th>plim4</th>\n",
       "      <td>0.000229</td>\n",
       "      <td>0.000597</td>\n",
       "      <td>0.000402</td>\n",
       "      <td>0.000622</td>\n",
       "      <td>0.000630</td>\n",
       "      <td>0.000711</td>\n",
       "      <td>0.000240</td>\n",
       "      <td>0.000372</td>\n",
       "      <td>0.000545</td>\n",
       "      <td>0.001747</td>\n",
       "    </tr>\n",
       "  </tbody>\n",
       "</table>\n",
       "</div>"
      ],
      "text/plain": [
       "          petr4     tnlp4     bbdc4     elet6     tspp4     ebtp4     vale5  \\\n",
       "petr4  0.000469  0.000258  0.000163  0.000205  0.000213  0.000234  0.000141   \n",
       "tnlp4  0.000258  0.000742  0.000395  0.000487  0.000573  0.000678  0.000208   \n",
       "bbdc4  0.000163  0.000395  0.000669  0.000398  0.000363  0.000480  0.000147   \n",
       "elet6  0.000205  0.000487  0.000398  0.001049  0.000448  0.000564  0.000228   \n",
       "tspp4  0.000213  0.000573  0.000363  0.000448  0.001424  0.000754  0.000227   \n",
       "ebtp4  0.000234  0.000678  0.000480  0.000564  0.000754  0.001488  0.000276   \n",
       "vale5  0.000141  0.000208  0.000147  0.000228  0.000227  0.000276  0.000400   \n",
       "itau4  0.000183  0.000334  0.000366  0.000349  0.000296  0.000360  0.000142   \n",
       "cmig4  0.000210  0.000466  0.000349  0.000555  0.000394  0.000528  0.000223   \n",
       "plim4  0.000229  0.000597  0.000402  0.000622  0.000630  0.000711  0.000240   \n",
       "\n",
       "          itau4     cmig4     plim4  \n",
       "petr4  0.000183  0.000210  0.000229  \n",
       "tnlp4  0.000334  0.000466  0.000597  \n",
       "bbdc4  0.000366  0.000349  0.000402  \n",
       "elet6  0.000349  0.000555  0.000622  \n",
       "tspp4  0.000296  0.000394  0.000630  \n",
       "ebtp4  0.000360  0.000528  0.000711  \n",
       "vale5  0.000142  0.000223  0.000240  \n",
       "itau4  0.000583  0.000322  0.000372  \n",
       "cmig4  0.000322  0.000779  0.000545  \n",
       "plim4  0.000372  0.000545  0.001747  "
      ]
     },
     "execution_count": 12,
     "metadata": {},
     "output_type": "execute_result"
    }
   ],
   "source": [
    "pd.DataFrame(matriz_cov, columns = dados.columns[2:], \n",
    "             index = dados.columns[2:])"
   ]
  },
  {
   "cell_type": "markdown",
   "metadata": {},
   "source": [
    "Agora, vamos variar o vetor w até obter um risco $\\sigma \\leq 1,8\\%$."
   ]
  },
  {
   "cell_type": "code",
   "execution_count": 13,
   "metadata": {},
   "outputs": [],
   "source": [
    "w_t = [0.3, 0, 0, 0.3, 0, 0, 0.4, 0, 0, 0] #vetor w transposto \n",
    "\n",
    "#30% de petr4\n",
    "#30% de elet6\n",
    "#30% de itau4"
   ]
  },
  {
   "cell_type": "code",
   "execution_count": 14,
   "metadata": {},
   "outputs": [],
   "source": [
    "w = np.array([w_t]).T # (wˆT)ˆT = w"
   ]
  },
  {
   "cell_type": "code",
   "execution_count": 15,
   "metadata": {},
   "outputs": [],
   "source": [
    "def risco(matriz_cov, w):\n",
    "    a = np.matmul(matriz_cov, w)\n",
    "    \n",
    "    return np.sqrt(float(np.matmul(w.T, a)))"
   ]
  },
  {
   "cell_type": "code",
   "execution_count": 16,
   "metadata": {},
   "outputs": [
    {
     "data": {
      "image/png": "[encoded data removed]",
      "text/latex": [
       "$$0.01805310872904404$$"
      ],
      "text/plain": [
       "0.01805310872904404"
      ]
     },
     "execution_count": 16,
     "metadata": {},
     "output_type": "execute_result"
    }
   ],
   "source": [
    "risco(matriz_cov, w)"
   ]
  },
  {
   "cell_type": "markdown",
   "metadata": {},
   "source": [
    "Com essa combinação temos o risco menor que $1,8\\%$."
   ]
  },
  {
   "cell_type": "markdown",
   "metadata": {},
   "source": [
    "### b) "
   ]
  },
  {
   "cell_type": "markdown",
   "metadata": {},
   "source": [
    "Temos que o retorno é dado por:\n",
    "\n",
    "$\\mu = \\omega'r$\n",
    "\n",
    "Modificando um pouco a função já criada no exercício 1, temos:"
   ]
  },
  {
   "cell_type": "code",
   "execution_count": 17,
   "metadata": {},
   "outputs": [],
   "source": [
    "def Risco_Retorno2(janela, retornos):\n",
    "    df= pd.DataFrame(index = [\"Retorno Esperado\", \"Risco\"], )\n",
    "    \n",
    "    for acao in retornos.columns:\n",
    "        retorno_risco =[retornos[acao][0: janela+1].mean(), \n",
    "                        retornos[acao][0: janela+1].std()]\n",
    "        df[acao] = retorno_risco\n",
    "    \n",
    "    return df"
   ]
  },
  {
   "cell_type": "code",
   "execution_count": 18,
   "metadata": {},
   "outputs": [],
   "source": [
    "r = np.array(Risco_Retorno2(406, retorno(dados)).iloc[0])"
   ]
  },
  {
   "cell_type": "code",
   "execution_count": 19,
   "metadata": {},
   "outputs": [
    {
     "data": {
      "image/png": "[encoded data removed]",
      "text/latex": [
       "$$0.0008925765637306077$$"
      ],
      "text/plain": [
       "0.0008925765637306077"
      ]
     },
     "execution_count": 19,
     "metadata": {},
     "output_type": "execute_result"
    }
   ],
   "source": [
    "np.matmul(w_t, r)"
   ]
  },
  {
   "cell_type": "markdown",
   "metadata": {},
   "source": [
    "Logo, o retorno será de $\\approx 0.09\\% $ ao dia."
   ]
  },
  {
   "cell_type": "markdown",
   "metadata": {},
   "source": [
    "Ao longo de um ano: \n",
    "$p = (1+\\mu)^{252}-1$"
   ]
  },
  {
   "cell_type": "code",
   "execution_count": 20,
   "metadata": {},
   "outputs": [],
   "source": [
    "p = (1 + np.matmul(w_t, r))**252 - 1 #252 dias úteis"
   ]
  },
  {
   "cell_type": "code",
   "execution_count": 21,
   "metadata": {},
   "outputs": [
    {
     "data": {
      "image/png": "[encoded data removed]",
      "text/latex": [
       "$$0.2521085503100806$$"
      ],
      "text/plain": [
       "0.2521085503100806"
      ]
     },
     "execution_count": 21,
     "metadata": {},
     "output_type": "execute_result"
    }
   ],
   "source": [
    "p"
   ]
  },
  {
   "cell_type": "markdown",
   "metadata": {},
   "source": [
    "Assim, o retorno esperado é de aproximadamente $25\\%$. Para saber se compensa ou não, cabe ao investidor saber se o vale a pena correr mais riscos por $6,5\\%$ de rentabilidade."
   ]
  },
  {
   "cell_type": "markdown",
   "metadata": {},
   "source": [
    "# Exercício 3"
   ]
  },
  {
   "cell_type": "markdown",
   "metadata": {},
   "source": [
    "Um investidor possui hoje 100% do seus investimentos em renda ﬁxa a uma taxa de 18,5% ao ano e tem a oportunidade de alocar parte desses recursos em renda variável dentro do universo de ativos, cujas séries históricas de preços e retornos se encontram na pasta Dados. Para uma janela de 200, pede-se:\n",
    "\n",
    "a) Quais ativos de risco ele pode trazer para a carteira de maneira a melhorar o seu retorno?\n",
    "\n",
    "b) Qual seria o risco e o retorno da sua carteira se ele mantivesse 30% em renda ﬁxa e distribuísse o restante igualmente nos outros ativos?\n",
    "\n",
    "c) Qual percentual ele deve manter em renda ﬁxa se quer correr um risco máximo de 0,50%, e Vale PNA é a sua única opção de investimento em ativos de risco?"
   ]
  },
  {
   "cell_type": "markdown",
   "metadata": {},
   "source": [
    "## Resolução"
   ]
  },
  {
   "cell_type": "markdown",
   "metadata": {},
   "source": [
    "### a)"
   ]
  },
  {
   "cell_type": "markdown",
   "metadata": {},
   "source": [
    "Adicionando uma nova coluna correspondente aos dados da renda fixa."
   ]
  },
  {
   "cell_type": "code",
   "execution_count": 22,
   "metadata": {},
   "outputs": [
    {
     "data": {
      "text/html": [
       "<div>\n",
       "<style scoped>\n",
       "    .dataframe tbody tr th:only-of-type {\n",
       "        vertical-align: middle;\n",
       "    }\n",
       "\n",
       "    .dataframe tbody tr th {\n",
       "        vertical-align: top;\n",
       "    }\n",
       "\n",
       "    .dataframe thead th {\n",
       "        text-align: right;\n",
       "    }\n",
       "</style>\n",
       "<table border=\"1\" class=\"dataframe\">\n",
       "  <thead>\n",
       "    <tr style=\"text-align: right;\">\n",
       "      <th></th>\n",
       "      <th>petr4</th>\n",
       "      <th>tnlp4</th>\n",
       "      <th>bbdc4</th>\n",
       "      <th>elet6</th>\n",
       "      <th>tspp4</th>\n",
       "      <th>ebtp4</th>\n",
       "      <th>vale5</th>\n",
       "      <th>itau4</th>\n",
       "      <th>cmig4</th>\n",
       "      <th>plim4</th>\n",
       "      <th>Renda Fixa</th>\n",
       "    </tr>\n",
       "  </thead>\n",
       "  <tbody>\n",
       "    <tr>\n",
       "      <th>Retorno Esperado</th>\n",
       "      <td>0.02%</td>\n",
       "      <td>-0.07%</td>\n",
       "      <td>0.13%</td>\n",
       "      <td>0.26%</td>\n",
       "      <td>-0.44%</td>\n",
       "      <td>-0.4%</td>\n",
       "      <td>0.1%</td>\n",
       "      <td>0.02%</td>\n",
       "      <td>0.25%</td>\n",
       "      <td>-0.13%</td>\n",
       "      <td>0.07%</td>\n",
       "    </tr>\n",
       "    <tr>\n",
       "      <th>Risco</th>\n",
       "      <td>2.11%</td>\n",
       "      <td>2.85%</td>\n",
       "      <td>2.41%</td>\n",
       "      <td>3.42%</td>\n",
       "      <td>3.84%</td>\n",
       "      <td>4.1%</td>\n",
       "      <td>1.84%</td>\n",
       "      <td>2.28%</td>\n",
       "      <td>2.93%</td>\n",
       "      <td>4.69%</td>\n",
       "      <td>0.0%</td>\n",
       "    </tr>\n",
       "  </tbody>\n",
       "</table>\n",
       "</div>"
      ],
      "text/plain": [
       "                  petr4   tnlp4  bbdc4  elet6   tspp4  ebtp4  vale5  itau4  \\\n",
       "Retorno Esperado  0.02%  -0.07%  0.13%  0.26%  -0.44%  -0.4%   0.1%  0.02%   \n",
       "Risco             2.11%   2.85%  2.41%  3.42%   3.84%   4.1%  1.84%  2.28%   \n",
       "\n",
       "                  cmig4   plim4 Renda Fixa  \n",
       "Retorno Esperado  0.25%  -0.13%      0.07%  \n",
       "Risco             2.93%   4.69%       0.0%  "
      ]
     },
     "execution_count": 22,
     "metadata": {},
     "output_type": "execute_result"
    }
   ],
   "source": [
    "R_dados = retorno(dados)\n",
    "R_dados[\"Renda Fixa\"] = np.array([0.0007]*406)\n",
    "R_j200 = Risco_Retorno2(200, R_dados)\n",
    "Risco_Retorno1(200, R_dados)"
   ]
  },
  {
   "cell_type": "markdown",
   "metadata": {},
   "source": [
    "Como estamos avaliando retornos ao dia, os investimentos em renda fixa tem um retorno ao dia de: \n",
    " \n",
    " $(1+18\\%)^{\\frac{1}{252}} - 1 = i_{dia}\\Rightarrow i_{dia} = 0.07\\%$ \n",
    " \n",
    "Ou seja, devemos encontrar investimentos com retorno $r_{dia}\\geq0.07\\%$.\n",
    "\n",
    "Da tabela, os investimentos são: bbdc4, elet6, vale5, cmig4."
   ]
  },
  {
   "cell_type": "markdown",
   "metadata": {},
   "source": [
    "### b)"
   ]
  },
  {
   "cell_type": "code",
   "execution_count": 23,
   "metadata": {},
   "outputs": [],
   "source": [
    "w1_t = [0, 0, 0.175, 0.175, 0, 0, 0.175, 0, 0.175, 0, 0.3]\n",
    "w1 = np.array([w1_t]).T"
   ]
  },
  {
   "cell_type": "markdown",
   "metadata": {},
   "source": [
    "Calculando o retorno:"
   ]
  },
  {
   "cell_type": "code",
   "execution_count": 24,
   "metadata": {},
   "outputs": [
    {
     "data": {
      "image/png": "[encoded data removed]",
      "text/latex": [
       "$$0.0015086651353926597$$"
      ],
      "text/plain": [
       "0.0015086651353926597"
      ]
     },
     "execution_count": 24,
     "metadata": {},
     "output_type": "execute_result"
    }
   ],
   "source": [
    "retorno = np.matmul(w1_t,R_j200.iloc[0])\n",
    "retorno"
   ]
  },
  {
   "cell_type": "markdown",
   "metadata": {},
   "source": [
    "Matriz de Covariância:"
   ]
  },
  {
   "cell_type": "code",
   "execution_count": 25,
   "metadata": {},
   "outputs": [
    {
     "data": {
      "text/html": [
       "<div>\n",
       "<style scoped>\n",
       "    .dataframe tbody tr th:only-of-type {\n",
       "        vertical-align: middle;\n",
       "    }\n",
       "\n",
       "    .dataframe tbody tr th {\n",
       "        vertical-align: top;\n",
       "    }\n",
       "\n",
       "    .dataframe thead th {\n",
       "        text-align: right;\n",
       "    }\n",
       "</style>\n",
       "<table border=\"1\" class=\"dataframe\">\n",
       "  <thead>\n",
       "    <tr style=\"text-align: right;\">\n",
       "      <th></th>\n",
       "      <th>petr4</th>\n",
       "      <th>tnlp4</th>\n",
       "      <th>bbdc4</th>\n",
       "      <th>elet6</th>\n",
       "      <th>tspp4</th>\n",
       "      <th>ebtp4</th>\n",
       "      <th>vale5</th>\n",
       "      <th>itau4</th>\n",
       "      <th>cmig4</th>\n",
       "      <th>plim4</th>\n",
       "      <th>Renda Fixa</th>\n",
       "    </tr>\n",
       "  </thead>\n",
       "  <tbody>\n",
       "    <tr>\n",
       "      <th>petr4</th>\n",
       "      <td>0.00045</td>\n",
       "      <td>0.00021</td>\n",
       "      <td>0.00015</td>\n",
       "      <td>0.00020</td>\n",
       "      <td>0.00015</td>\n",
       "      <td>0.00020</td>\n",
       "      <td>0.00011</td>\n",
       "      <td>0.00019</td>\n",
       "      <td>0.00015</td>\n",
       "      <td>0.00021</td>\n",
       "      <td>0.0</td>\n",
       "    </tr>\n",
       "    <tr>\n",
       "      <th>tnlp4</th>\n",
       "      <td>0.00021</td>\n",
       "      <td>0.00082</td>\n",
       "      <td>0.00040</td>\n",
       "      <td>0.00053</td>\n",
       "      <td>0.00055</td>\n",
       "      <td>0.00078</td>\n",
       "      <td>0.00018</td>\n",
       "      <td>0.00032</td>\n",
       "      <td>0.00049</td>\n",
       "      <td>0.00064</td>\n",
       "      <td>0.0</td>\n",
       "    </tr>\n",
       "    <tr>\n",
       "      <th>bbdc4</th>\n",
       "      <td>0.00015</td>\n",
       "      <td>0.00040</td>\n",
       "      <td>0.00058</td>\n",
       "      <td>0.00036</td>\n",
       "      <td>0.00034</td>\n",
       "      <td>0.00056</td>\n",
       "      <td>0.00012</td>\n",
       "      <td>0.00035</td>\n",
       "      <td>0.00033</td>\n",
       "      <td>0.00042</td>\n",
       "      <td>0.0</td>\n",
       "    </tr>\n",
       "    <tr>\n",
       "      <th>elet6</th>\n",
       "      <td>0.00020</td>\n",
       "      <td>0.00053</td>\n",
       "      <td>0.00036</td>\n",
       "      <td>0.00118</td>\n",
       "      <td>0.00037</td>\n",
       "      <td>0.00066</td>\n",
       "      <td>0.00023</td>\n",
       "      <td>0.00035</td>\n",
       "      <td>0.00061</td>\n",
       "      <td>0.00064</td>\n",
       "      <td>0.0</td>\n",
       "    </tr>\n",
       "    <tr>\n",
       "      <th>tspp4</th>\n",
       "      <td>0.00015</td>\n",
       "      <td>0.00055</td>\n",
       "      <td>0.00034</td>\n",
       "      <td>0.00037</td>\n",
       "      <td>0.00148</td>\n",
       "      <td>0.00071</td>\n",
       "      <td>0.00015</td>\n",
       "      <td>0.00024</td>\n",
       "      <td>0.00029</td>\n",
       "      <td>0.00060</td>\n",
       "      <td>0.0</td>\n",
       "    </tr>\n",
       "    <tr>\n",
       "      <th>ebtp4</th>\n",
       "      <td>0.00020</td>\n",
       "      <td>0.00078</td>\n",
       "      <td>0.00056</td>\n",
       "      <td>0.00066</td>\n",
       "      <td>0.00071</td>\n",
       "      <td>0.00168</td>\n",
       "      <td>0.00023</td>\n",
       "      <td>0.00037</td>\n",
       "      <td>0.00054</td>\n",
       "      <td>0.00074</td>\n",
       "      <td>0.0</td>\n",
       "    </tr>\n",
       "    <tr>\n",
       "      <th>vale5</th>\n",
       "      <td>0.00011</td>\n",
       "      <td>0.00018</td>\n",
       "      <td>0.00012</td>\n",
       "      <td>0.00023</td>\n",
       "      <td>0.00015</td>\n",
       "      <td>0.00023</td>\n",
       "      <td>0.00034</td>\n",
       "      <td>0.00011</td>\n",
       "      <td>0.00016</td>\n",
       "      <td>0.00016</td>\n",
       "      <td>0.0</td>\n",
       "    </tr>\n",
       "    <tr>\n",
       "      <th>itau4</th>\n",
       "      <td>0.00019</td>\n",
       "      <td>0.00032</td>\n",
       "      <td>0.00035</td>\n",
       "      <td>0.00035</td>\n",
       "      <td>0.00024</td>\n",
       "      <td>0.00037</td>\n",
       "      <td>0.00011</td>\n",
       "      <td>0.00052</td>\n",
       "      <td>0.00032</td>\n",
       "      <td>0.00035</td>\n",
       "      <td>0.0</td>\n",
       "    </tr>\n",
       "    <tr>\n",
       "      <th>cmig4</th>\n",
       "      <td>0.00015</td>\n",
       "      <td>0.00049</td>\n",
       "      <td>0.00033</td>\n",
       "      <td>0.00061</td>\n",
       "      <td>0.00029</td>\n",
       "      <td>0.00054</td>\n",
       "      <td>0.00016</td>\n",
       "      <td>0.00032</td>\n",
       "      <td>0.00086</td>\n",
       "      <td>0.00051</td>\n",
       "      <td>0.0</td>\n",
       "    </tr>\n",
       "    <tr>\n",
       "      <th>plim4</th>\n",
       "      <td>0.00021</td>\n",
       "      <td>0.00064</td>\n",
       "      <td>0.00042</td>\n",
       "      <td>0.00064</td>\n",
       "      <td>0.00060</td>\n",
       "      <td>0.00074</td>\n",
       "      <td>0.00016</td>\n",
       "      <td>0.00035</td>\n",
       "      <td>0.00051</td>\n",
       "      <td>0.00219</td>\n",
       "      <td>0.0</td>\n",
       "    </tr>\n",
       "    <tr>\n",
       "      <th>Renda Fixa</th>\n",
       "      <td>0.00000</td>\n",
       "      <td>0.00000</td>\n",
       "      <td>0.00000</td>\n",
       "      <td>0.00000</td>\n",
       "      <td>0.00000</td>\n",
       "      <td>0.00000</td>\n",
       "      <td>0.00000</td>\n",
       "      <td>0.00000</td>\n",
       "      <td>0.00000</td>\n",
       "      <td>0.00000</td>\n",
       "      <td>0.0</td>\n",
       "    </tr>\n",
       "  </tbody>\n",
       "</table>\n",
       "</div>"
      ],
      "text/plain": [
       "              petr4    tnlp4    bbdc4    elet6    tspp4    ebtp4    vale5  \\\n",
       "petr4       0.00045  0.00021  0.00015  0.00020  0.00015  0.00020  0.00011   \n",
       "tnlp4       0.00021  0.00082  0.00040  0.00053  0.00055  0.00078  0.00018   \n",
       "bbdc4       0.00015  0.00040  0.00058  0.00036  0.00034  0.00056  0.00012   \n",
       "elet6       0.00020  0.00053  0.00036  0.00118  0.00037  0.00066  0.00023   \n",
       "tspp4       0.00015  0.00055  0.00034  0.00037  0.00148  0.00071  0.00015   \n",
       "ebtp4       0.00020  0.00078  0.00056  0.00066  0.00071  0.00168  0.00023   \n",
       "vale5       0.00011  0.00018  0.00012  0.00023  0.00015  0.00023  0.00034   \n",
       "itau4       0.00019  0.00032  0.00035  0.00035  0.00024  0.00037  0.00011   \n",
       "cmig4       0.00015  0.00049  0.00033  0.00061  0.00029  0.00054  0.00016   \n",
       "plim4       0.00021  0.00064  0.00042  0.00064  0.00060  0.00074  0.00016   \n",
       "Renda Fixa  0.00000  0.00000  0.00000  0.00000  0.00000  0.00000  0.00000   \n",
       "\n",
       "              itau4    cmig4    plim4  Renda Fixa  \n",
       "petr4       0.00019  0.00015  0.00021         0.0  \n",
       "tnlp4       0.00032  0.00049  0.00064         0.0  \n",
       "bbdc4       0.00035  0.00033  0.00042         0.0  \n",
       "elet6       0.00035  0.00061  0.00064         0.0  \n",
       "tspp4       0.00024  0.00029  0.00060         0.0  \n",
       "ebtp4       0.00037  0.00054  0.00074         0.0  \n",
       "vale5       0.00011  0.00016  0.00016         0.0  \n",
       "itau4       0.00052  0.00032  0.00035         0.0  \n",
       "cmig4       0.00032  0.00086  0.00051         0.0  \n",
       "plim4       0.00035  0.00051  0.00219         0.0  \n",
       "Renda Fixa  0.00000  0.00000  0.00000         0.0  "
      ]
     },
     "execution_count": 25,
     "metadata": {},
     "output_type": "execute_result"
    }
   ],
   "source": [
    "matriz_cov1 = cov_janela(R_dados, 200)\n",
    "\n",
    "matriz_cov1 = matriz_cov1.round(5)\n",
    "\n",
    "matriz_cov1 = np.where(matriz_cov1 <= 0, 0, matriz_cov1)\n",
    "\n",
    "pd.DataFrame(matriz_cov1, columns = R_dados.columns, \n",
    "             index = R_dados.columns)"
   ]
  },
  {
   "cell_type": "markdown",
   "metadata": {},
   "source": [
    "Calculando o risco:"
   ]
  },
  {
   "cell_type": "code",
   "execution_count": 26,
   "metadata": {},
   "outputs": [
    {
     "data": {
      "image/png": "[encoded data removed]",
      "text/latex": [
       "$$0.014195509853471273$$"
      ],
      "text/plain": [
       "0.014195509853471273"
      ]
     },
     "execution_count": 26,
     "metadata": {},
     "output_type": "execute_result"
    }
   ],
   "source": [
    "risco1 = risco(matriz_cov1, w1)\n",
    "risco1"
   ]
  },
  {
   "cell_type": "markdown",
   "metadata": {},
   "source": [
    "Temos que o risco é de $\\approx1,42\\%$, e o retorno $\\approx 0,15\\%$.\n",
    "\n",
    "Diferente do demonstrado na Resolução do livro.\n",
    "\n",
    "Considerou o retorno da renda fixa? "
   ]
  },
  {
   "cell_type": "markdown",
   "metadata": {},
   "source": [
    "### c)"
   ]
  },
  {
   "cell_type": "markdown",
   "metadata": {},
   "source": [
    "Definimos o vetor :\n",
    "\\begin{align}\n",
    "    \\omega &= \\begin{bmatrix}\n",
    "           0 \\\\\n",
    "           \\vdots\\\\\n",
    "           \\omega_{7}\\\\\n",
    "           0\\\\\n",
    "           \\vdots \\\\\n",
    "           0\\\\\n",
    "           \\omega_{11}\\\n",
    "         \\end{bmatrix}\n",
    "  \\end{align}\n",
    "  \n",
    "De tal forma que $\\omega_{11} = 1 - \\omega_7$.\n",
    "\n",
    "Com isso, queremos que:\n",
    "\n",
    "\n",
    "$\\sigma = \\sqrt{\\omega'\\Sigma\\omega} \\leq 0,5\\%$\n",
    "\n",
    "Usando uma lib de matemática simbólica:\n",
    "\n",
    "\n"
   ]
  },
  {
   "cell_type": "code",
   "execution_count": 27,
   "metadata": {},
   "outputs": [
    {
     "data": {
      "text/latex": [
       "$$\\left[\\begin{array}{ccccccccccc}0.00045 & 0.00021 & 0.00015 & 0.0002 & 0.00015 & 0.0002 & 0.00011 & 0.00019 & 0.00015 & 0.00021 & 0.0\\\\0.00021 & 0.00082 & 0.0004 & 0.00053 & 0.00055 & 0.00078 & 0.00018 & 0.00032 & 0.00049 & 0.00064 & 0.0\\\\0.00015 & 0.0004 & 0.00058 & 0.00036 & 0.00034 & 0.00056 & 0.00012 & 0.00035 & 0.00033 & 0.00042 & 0.0\\\\0.0002 & 0.00053 & 0.00036 & 0.00118 & 0.00037 & 0.00066 & 0.00023 & 0.00035 & 0.00061 & 0.00064 & 0.0\\\\0.00015 & 0.00055 & 0.00034 & 0.00037 & 0.00148 & 0.00071 & 0.00015 & 0.00024 & 0.00029 & 0.0006 & 0.0\\\\0.0002 & 0.00078 & 0.00056 & 0.00066 & 0.00071 & 0.00168 & 0.00023 & 0.00037 & 0.00054 & 0.00074 & 0.0\\\\0.00011 & 0.00018 & 0.00012 & 0.00023 & 0.00015 & 0.00023 & 0.00034 & 0.00011 & 0.00016 & 0.00016 & 0.0\\\\0.00019 & 0.00032 & 0.00035 & 0.00035 & 0.00024 & 0.00037 & 0.00011 & 0.00052 & 0.00032 & 0.00035 & 0.0\\\\0.00015 & 0.00049 & 0.00033 & 0.00061 & 0.00029 & 0.00054 & 0.00016 & 0.00032 & 0.00086 & 0.00051 & 0.0\\\\0.00021 & 0.00064 & 0.00042 & 0.00064 & 0.0006 & 0.00074 & 0.00016 & 0.00035 & 0.00051 & 0.00219 & 0.0\\\\0.0 & 0.0 & 0.0 & 0.0 & 0.0 & 0.0 & 0.0 & 0.0 & 0.0 & 0.0 & 0.0\\end{array}\\right]$$"
      ],
      "text/plain": [
       "⎡0.00045  0.00021  0.00015  0.0002   0.00015  0.0002   0.00011  0.00019  0.000\n",
       "⎢                                                                             \n",
       "⎢0.00021  0.00082  0.0004   0.00053  0.00055  0.00078  0.00018  0.00032  0.000\n",
       "⎢                                                                             \n",
       "⎢0.00015  0.0004   0.00058  0.00036  0.00034  0.00056  0.00012  0.00035  0.000\n",
       "⎢                                                                             \n",
       "⎢0.0002   0.00053  0.00036  0.00118  0.00037  0.00066  0.00023  0.00035  0.000\n",
       "⎢                                                                             \n",
       "⎢0.00015  0.00055  0.00034  0.00037  0.00148  0.00071  0.00015  0.00024  0.000\n",
       "⎢                                                                             \n",
       "⎢0.0002   0.00078  0.00056  0.00066  0.00071  0.00168  0.00023  0.00037  0.000\n",
       "⎢                                                                             \n",
       "⎢0.00011  0.00018  0.00012  0.00023  0.00015  0.00023  0.00034  0.00011  0.000\n",
       "⎢                                                                             \n",
       "⎢0.00019  0.00032  0.00035  0.00035  0.00024  0.00037  0.00011  0.00052  0.000\n",
       "⎢                                                                             \n",
       "⎢0.00015  0.00049  0.00033  0.00061  0.00029  0.00054  0.00016  0.00032  0.000\n",
       "⎢                                                                             \n",
       "⎢0.00021  0.00064  0.00042  0.00064  0.0006   0.00074  0.00016  0.00035  0.000\n",
       "⎢                                                                             \n",
       "⎣  0.0      0.0      0.0      0.0      0.0      0.0      0.0      0.0      0.0\n",
       "\n",
       "15  0.00021  0.0⎤\n",
       "                ⎥\n",
       "49  0.00064  0.0⎥\n",
       "                ⎥\n",
       "33  0.00042  0.0⎥\n",
       "                ⎥\n",
       "61  0.00064  0.0⎥\n",
       "                ⎥\n",
       "29  0.0006   0.0⎥\n",
       "                ⎥\n",
       "54  0.00074  0.0⎥\n",
       "                ⎥\n",
       "16  0.00016  0.0⎥\n",
       "                ⎥\n",
       "32  0.00035  0.0⎥\n",
       "                ⎥\n",
       "86  0.00051  0.0⎥\n",
       "                ⎥\n",
       "51  0.00219  0.0⎥\n",
       "                ⎥\n",
       "      0.0    0.0⎦"
      ]
     },
     "execution_count": 27,
     "metadata": {},
     "output_type": "execute_result"
    }
   ],
   "source": [
    "w = sympy.symbols('omega_7') #define o símbolo de W_7\n",
    "w2 =sympy.Matrix([0, 0, 0, 0, 0, 0, w, 0, 0, 0, 1-w]) #define o vetor w\n",
    "cov1 = sympy.Matrix(matriz_cov1) #define a matriz de covariancia \n",
    "cov1 "
   ]
  },
  {
   "cell_type": "code",
   "execution_count": 28,
   "metadata": {},
   "outputs": [
    {
     "data": {
      "text/latex": [
       "$$\\left[\\begin{matrix}0.0184390889145858 \\left(\\omega_{7}^{2}\\right)^{0.5}\\end{matrix}\\right]$$"
      ],
      "text/plain": [
       "⎡                        0.5⎤\n",
       "⎢                   ⎛  2⎞   ⎥\n",
       "⎣0.0184390889145858⋅⎝ω₇ ⎠   ⎦"
      ]
     },
     "execution_count": 28,
     "metadata": {},
     "output_type": "execute_result"
    }
   ],
   "source": [
    "(w2.T*cov1*w2)**(1/2) #Resultado final "
   ]
  },
  {
   "cell_type": "code",
   "execution_count": 39,
   "metadata": {},
   "outputs": [
    {
     "data": {
      "image/png": "[encoded data removed]",
      "text/latex": [
       "$$\\left\\{0.27116307227332\\right\\}$$"
      ],
      "text/plain": [
       "{0.27116307227332}"
      ]
     },
     "execution_count": 39,
     "metadata": {},
     "output_type": "execute_result"
    }
   ],
   "source": [
    "sympy.solveset(sympy.Eq(0.0184390889145858*w, 0.005), w) #Resolvendo a equacao: w = W_7"
   ]
  },
  {
   "cell_type": "markdown",
   "metadata": {},
   "source": [
    "Com o isso, chegamos em $\\omega_7 \\approx 27\\% $ e $\\omega_{11} \\approx 73\\%$. Diferente do resultado do Livro. Testando, chega-se que o resultado no livro tem um risco de 0.98% diferente do requisitado, 0.05%. "
   ]
  },
  {
   "cell_type": "code",
   "execution_count": 84,
   "metadata": {},
   "outputs": [],
   "source": [
    "w3 = np.array([[0, 0, 0, 0, 0, 0,0.27116307227332 , 0, 0, 0, 1-0.27116307227332]])\n"
   ]
  },
  {
   "cell_type": "code",
   "execution_count": 85,
   "metadata": {},
   "outputs": [
    {
     "data": {
      "text/plain": [
       "array([[0.5]])"
      ]
     },
     "execution_count": 85,
     "metadata": {},
     "output_type": "execute_result"
    }
   ],
   "source": [
    "a = np.matmul(matriz_cov1, w3.T)\n",
    "np.sqrt(np.matmul(w3, a))*100"
   ]
  },
  {
   "cell_type": "markdown",
   "metadata": {},
   "source": [
    "### Resultado do livro \n",
    "\n",
    "47% em renda fixa"
   ]
  },
  {
   "cell_type": "code",
   "execution_count": 86,
   "metadata": {},
   "outputs": [
    {
     "data": {
      "text/plain": [
       "array([[0.97727171]])"
      ]
     },
     "execution_count": 86,
     "metadata": {},
     "output_type": "execute_result"
    }
   ],
   "source": [
    "w4 = np.array([[0, 0, 0, 0, 0, 0, 1-0.47 , 0, 0, 0, 0.47]]) \n",
    "np.sqrt(np.matmul(w4, np.matmul(matriz_cov1, w4.T)))*100"
   ]
  },
  {
   "cell_type": "markdown",
   "metadata": {},
   "source": [
    "# Exercício 4"
   ]
  },
  {
   "cell_type": "markdown",
   "metadata": {},
   "source": [
    "Considere 2 ativos com retornos $R_1$ e $R_2$, fator de correlação $\\rho$, e médias e desvios-padrão\n",
    "\n",
    "$r_1 = 10\\%$, $r_2 = 18\\%$, $\\sigma_1 = 15\\%$, $σ_2 = 30\\%$.\n",
    "\n",
    "a) Sendo $\\rho = 0,1$, determine o peso $\\omega_1$ de modo a mimimizar a variância da carteira com retorno $P = \\omega_1R_1 +(1−\\omega_1)R_2$ . Qual é o valor da variância mínima $\\sigma_{min}^2$ e o retorno esperado $\\mu_{min}$?\n",
    "\n",
    "b) Ainda considerando $\\rho = 0,1$, obtenha e trace a equação que relaciona\n",
    "$\\sigma × \\mu$ .\n",
    "\n",
    "c) Para qual valor de $\\rho$ obtém-se uma carteira com retorno esperado$\\mu = 15\\%$ e desvio-padrão $\\sigma = 20\\%$? Qual é o valor de $\\omega_1$ para essa carteira?"
   ]
  },
  {
   "cell_type": "markdown",
   "metadata": {},
   "source": [
    "## Resolução"
   ]
  },
  {
   "cell_type": "markdown",
   "metadata": {},
   "source": [
    "### a)"
   ]
  },
  {
   "cell_type": "markdown",
   "metadata": {},
   "source": [
    "Temos a seguinte matriz de covariância:\n",
    "\n",
    "\n",
    "\\begin{align}\n",
    "    \\Sigma &= \\begin{bmatrix} \n",
    "           \\sigma_1^2 & \\rho \\sigma_1 \\sigma_2\\\\\n",
    "           \\rho \\sigma_1 \\sigma_2 & \\sigma_2^2\n",
    "         \\end{bmatrix}\n",
    "  \\end{align}\n",
    "  \n",
    "Substituindo os valores:\n",
    "  \n",
    "  \\begin{align}\n",
    "    \\Sigma &= \\begin{bmatrix} \n",
    "           0.0225 & 0.0045\\\\\n",
    "           0.0045  & 0.09\n",
    "         \\end{bmatrix}\n",
    "  \\end{align}\n",
    "\n",
    "Ainda, $\\sigma^2 = \\omega' \\Sigma \\omega$ e:\n",
    "\n",
    "  \\begin{align}\n",
    "    \\omega &= \\begin{bmatrix} \n",
    "           \\omega_1\\\\\n",
    "           1-\\omega_1\n",
    "         \\end{bmatrix}\n",
    "  \\end{align}\n",
    "\n",
    "Logo, \n",
    "\\begin{equation}\n",
    "\\sigma^2 = 0.1035\\omega_1^2 - 0.171\\omega_1 +0.09\n",
    "\\end{equation}\n",
    "\n",
    "Basta o lado direito da equação ser mínimo que teremos o $\\sigma^2$ mínimo.\n",
    "Assim, derivando e igualando a zero, temos: \n",
    "\n",
    "\\begin{equation}\n",
    "\\omega_1 \\approx 0.83 \\Rightarrow \\sigma_{min}^2 = 0.0191 \n",
    "\\end{equation}\n",
    "\n",
    "Para achar o $\\mu_{min}$ ? \n",
    "\\begin{equation}\n",
    "   \\mu_{min} = r \\omega \\Rightarrow \\mu_{min} = 11,4\\%\n",
    "\\end{equation}"
   ]
  },
  {
   "cell_type": "markdown",
   "metadata": {},
   "source": [
    "### b)"
   ]
  },
  {
   "cell_type": "markdown",
   "metadata": {},
   "source": [
    "\\begin{equation}\n",
    "\\mu = \\omega_1 0.1+ (1-\\omega_1)0.18 \\Rightarrow w_1 = \\frac{0.18-\\mu}{0.08}\n",
    "\\end{equation}\n",
    "\n",
    "Colocando na equação de cima, \n",
    "\n",
    "\\begin{equation}\n",
    "\\sigma^2 = 16.2 \\mu^2 -3.68\\mu+0.23\n",
    "\\end{equation}\n",
    "\n",
    "E podemos obter o intervalo onde $\\mu$ está, já que $-1\\leq\\omega_1\\leq1$:\n",
    "\n",
    "\\begin{equation}\n",
    "0.1\\leq\\mu\\leq0.26\n",
    "\\end{equation}\n",
    "\n",
    "Com isso, podemos plotar o gráfico."
   ]
  },
  {
   "cell_type": "code",
   "execution_count": 80,
   "metadata": {},
   "outputs": [
    {
     "data": {
      "image/png": "[encoded data removed]",
      "text/latex": [
       "$$16.171875 \\mu^{2} - 3.684375 \\mu + 0.22921875$$"
      ],
      "text/plain": [
       "             2                            \n",
       "16.171875⋅\\mu  - 3.684375⋅\\mu + 0.22921875"
      ]
     },
     "execution_count": 80,
     "metadata": {},
     "output_type": "execute_result"
    }
   ],
   "source": [
    "mu = sympy.symbols(\"\\mu\")\n",
    "sympy.simplify(0.1035*((0.18-mu)/0.08)**2 - 0.171*((0.18-mu)/0.08)+0.09)"
   ]
  },
  {
   "cell_type": "code",
   "execution_count": 83,
   "metadata": {},
   "outputs": [
    {
     "data": {
      "image/png": "[encoded data removed]",
      "text/plain": [
       "<Figure size 432x288 with 1 Axes>"
      ]
     },
     "metadata": {
      "needs_background": "light"
     },
     "output_type": "display_data"
    }
   ],
   "source": [
    "#Primeira \n",
    "s1 = lambda mu: np.sqrt(16.2*mu**2-3.68*mu+0.23)\n",
    "#Segunda\n",
    "s2 = lambda mu: -np.sqrt(16.2*mu**2-3.68*mu+0.23)\n",
    "\n",
    "mu = np.linspace(0.1, 0.26, 100)\n",
    "\n",
    "plt.plot(s1(mu), mu)\n",
    "plt.plot(s2(mu), mu)\n",
    "plt.xlabel(\"σ\")\n",
    "plt.ylabel(\"µ\")\n",
    "plt.title(\"Curva Risco Retorno\")\n",
    "plt.show()"
   ]
  },
  {
   "cell_type": "markdown",
   "metadata": {},
   "source": [
    "### c)"
   ]
  },
  {
   "cell_type": "markdown",
   "metadata": {},
   "source": [
    "Temos que:\n",
    "\\begin{equation}\n",
    "\\sigma^2 = (\\sigma_1^2+\\sigma_2^2-2\\rho\\sigma_1\\sigma_2)(\\frac{\\mu-r_2}{r_1-r_2})^2+\n",
    "2(\\sigma_2^2-\\rho\\sigma_1\\sigma_2)(\\frac{\\mu-r_2}{r_1-r_2}) - \\sigma_2^2\n",
    "\\end{equation}\n",
    "Usando o Sympy:\n",
    "\\begin{equation}\n",
    "\\rho \\approx -1 \n",
    "\\end{equation}\n",
    "\n",
    "\\begin{equation}\n",
    "\\omega_1 = 0.375 = 37.5\\%\n",
    "\\end{equation}\n",
    "\n"
   ]
  },
  {
   "cell_type": "code",
   "execution_count": 76,
   "metadata": {},
   "outputs": [
    {
     "data": {
      "image/png": "[encoded data removed]",
      "text/latex": [
       "$$\\left\\{-1.00589225589226\\right\\}$$"
      ],
      "text/plain": [
       "{-1.00589225589226}"
      ]
     },
     "execution_count": 76,
     "metadata": {},
     "output_type": "execute_result"
    }
   ],
   "source": [
    "p = sympy.symbols(\"\\rho\")\n",
    "sympy.solveset(0.2**2 - (0.15**2+0.3**2-2*p*0.15*0.3)*((0.15-0.18)/(0.1-0.18))**2-2*(0.3**2-p*0.15*0.3)*((0.15-0.18)/(0.1-0.18)) + 0.3**2,p)"
   ]
  },
  {
   "cell_type": "code",
   "execution_count": null,
   "metadata": {},
   "outputs": [],
   "source": []
  }
 ],
 "metadata": {
  "kernelspec": {
   "display_name": "Python 3",
   "language": "python",
   "name": "python3"
  },
  "language_info": {
   "codemirror_mode": {
    "name": "ipython",
    "version": 3
   },
   "file_extension": ".py",
   "mimetype": "text/x-python",
   "name": "python",
   "nbconvert_exporter": "python",
   "pygments_lexer": "ipython3",
   "version": "3.7.3"
  }
 },
 "nbformat": 4,
 "nbformat_minor": 2
}
