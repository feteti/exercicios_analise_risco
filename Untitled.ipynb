{
 "cells": [
  {
   "cell_type": "markdown",
   "metadata": {},
   "source": [
    "# Exercício 3"
   ]
  },
  {
   "cell_type": "markdown",
   "metadata": {},
   "source": [
    "2) Um investidor possui R\\$ 100.000,00 para aplicar em ações. Dada a análise individual do exercício anterior, esse investidor decidiu montar uma carteira de investimento. Ele resolveu comprar R\\$ 40.000,00 de ações Vale PNA e R\n",
    "\n",
    "30.000,00 de Eletrobrás PNB, por considerar papéis atrativos. Analogamente, ele quer evitar Telesp Celular PN, Globo Cabo PN e Embratel PN. Assumindo que o investidor vai alocar todo o saldo do investimento em um único ativo, pede-se:\n",
    "\n",
    "a) Qual ação do universo considerado ele deve comprar para manter o nível de risco diário da carteira abaixo de 1,8%, considerando uma janela de 400 dias?\n",
    "\n",
    "b) Supondo que o investidor monte a carteira indicada no item anterior, qual o retorno esperado para 1 ano? Sob o ponto de vista única e exclusivamente do retorno e para uma taxa de juros de 18,5% ao ano, vale a pena montar a carteira indicada?"
   ]
  },
  {
   "cell_type": "code",
   "execution_count": null,
   "metadata": {},
   "outputs": [],
   "source": []
  }
 ],
 "metadata": {
  "kernelspec": {
   "display_name": "Python 3",
   "language": "python",
   "name": "python3"
  },
  "language_info": {
   "codemirror_mode": {
    "name": "ipython",
    "version": 3
   },
   "file_extension": ".py",
   "mimetype": "text/x-python",
   "name": "python",
   "nbconvert_exporter": "python",
   "pygments_lexer": "ipython3",
   "version": "3.7.3"
  }
 },
 "nbformat": 4,
 "nbformat_minor": 2
}
